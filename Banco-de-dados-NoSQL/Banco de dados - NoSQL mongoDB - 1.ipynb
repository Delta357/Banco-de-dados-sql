{
 "cells": [
  {
   "cell_type": "code",
   "execution_count": 1,
   "metadata": {},
   "outputs": [],
   "source": [
    "from pymongo import MongoClient"
   ]
  },
  {
   "cell_type": "code",
   "execution_count": 2,
   "metadata": {},
   "outputs": [],
   "source": [
    "conn = MongoClient('localhost', )"
   ]
  },
  {
   "cell_type": "code",
   "execution_count": 3,
   "metadata": {},
   "outputs": [],
   "source": [
    "db = conn.cadastrodb"
   ]
  },
  {
   "cell_type": "code",
   "execution_count": 4,
   "metadata": {},
   "outputs": [],
   "source": [
    "collection = db.cadastrodb"
   ]
  },
  {
   "cell_type": "code",
   "execution_count": 5,
   "metadata": {},
   "outputs": [],
   "source": [
    "import datetime"
   ]
  },
  {
   "cell_type": "code",
   "execution_count": 6,
   "metadata": {},
   "outputs": [],
   "source": [
    "post1 = {\"codigo\": \"ID-202045\",\n",
    "        \"formação\": \"curso em python\",\n",
    "        \"cursos\": [\"R\", \"Python\", \"C#\"],\n",
    "        \"data_curso\": datetime.datetime.utcnow()}"
   ]
  },
  {
   "cell_type": "code",
   "execution_count": 7,
   "metadata": {},
   "outputs": [],
   "source": [
    "collection = db.posts"
   ]
  },
  {
   "cell_type": "code",
   "execution_count": 8,
   "metadata": {},
   "outputs": [],
   "source": [
    "post_id = collection.insert_one(post1)"
   ]
  },
  {
   "cell_type": "code",
   "execution_count": 9,
   "metadata": {},
   "outputs": [
    {
     "data": {
      "text/plain": [
       "ObjectId('5dd4c8cfd395da2150d4a2a5')"
      ]
     },
     "execution_count": 9,
     "metadata": {},
     "output_type": "execute_result"
    }
   ],
   "source": [
    "post_id.inserted_id"
   ]
  },
  {
   "cell_type": "code",
   "execution_count": 10,
   "metadata": {},
   "outputs": [
    {
     "data": {
      "text/plain": [
       "<pymongo.results.InsertOneResult at 0x1a811b95ab0>"
      ]
     },
     "execution_count": 10,
     "metadata": {},
     "output_type": "execute_result"
    }
   ],
   "source": [
    "post_id"
   ]
  },
  {
   "cell_type": "code",
   "execution_count": 11,
   "metadata": {},
   "outputs": [],
   "source": [
    "post2 = {\"codigo\": \"ID-8975462\",\n",
    "        \"formação\": \"Cientista de dados\",\n",
    "        \"curso\": [\"Python\", \"R\", \"C#\"],\n",
    "        \"data_cadastro\": datetime.datetime.utcnow()}"
   ]
  },
  {
   "cell_type": "code",
   "execution_count": 12,
   "metadata": {},
   "outputs": [],
   "source": [
    "collection = db.posts"
   ]
  },
  {
   "cell_type": "code",
   "execution_count": 13,
   "metadata": {},
   "outputs": [],
   "source": [
    "post_id = collection.insert_one(post2).inserted_id"
   ]
  },
  {
   "cell_type": "code",
   "execution_count": 14,
   "metadata": {},
   "outputs": [
    {
     "data": {
      "text/plain": [
       "ObjectId('5dd4c8d1d395da2150d4a2a6')"
      ]
     },
     "execution_count": 14,
     "metadata": {},
     "output_type": "execute_result"
    }
   ],
   "source": [
    "post_id"
   ]
  },
  {
   "cell_type": "code",
   "execution_count": 15,
   "metadata": {},
   "outputs": [
    {
     "data": {
      "text/plain": [
       "{'_id': ObjectId('5dd4c43cd395da199c425105'),\n",
       " 'codigo': 'ID-8052021',\n",
       " 'formação': 'Cientista de dados',\n",
       " 'curso': ['Python', 'R', 'C#'],\n",
       " 'data_cadastro': datetime.datetime(2019, 11, 20, 4, 42, 26, 973000)}"
      ]
     },
     "execution_count": 15,
     "metadata": {},
     "output_type": "execute_result"
    }
   ],
   "source": [
    "collection.find_one({\"formação\": \"Cientista de dados\"})"
   ]
  },
  {
   "cell_type": "code",
   "execution_count": 16,
   "metadata": {},
   "outputs": [
    {
     "name": "stdout",
     "output_type": "stream",
     "text": [
      "{'_id': ObjectId('5dd4c43cd395da199c425105'), 'codigo': 'ID-8052021', 'formação': 'Cientista de dados', 'curso': ['Python', 'R', 'C#'], 'data_cadastro': datetime.datetime(2019, 11, 20, 4, 42, 26, 973000)}\n",
      "{'_id': ObjectId('5dd4c48ed395da199c425106'), 'codigo': 'ID-202045', 'formação': 'curso em python', 'cursos': ['R', 'Python', 'C#'], 'data_curso': datetime.datetime(2019, 11, 20, 4, 43, 57, 517000)}\n",
      "{'_id': ObjectId('5dd4c490d395da199c425107'), 'codigo': 'ID-8052021', 'formação': 'Cientista de dados', 'curso': ['Python', 'R', 'C#'], 'data_cadastro': datetime.datetime(2019, 11, 20, 4, 43, 59, 245000)}\n",
      "{'_id': ObjectId('5dd4c49fd395da2bfcf18c6c'), 'codigo': 'ID-202045', 'formação': 'curso em python', 'cursos': ['R', 'Python', 'C#'], 'data_curso': datetime.datetime(2019, 11, 20, 4, 44, 14, 989000)}\n",
      "{'_id': ObjectId('5dd4c4a5d395da2bfcf18c6d'), 'codigo': 'ID-8052021', 'formação': 'Cientista de dados', 'curso': ['Python', 'R', 'C#'], 'data_cadastro': datetime.datetime(2019, 11, 20, 4, 44, 17, 132000)}\n",
      "{'_id': ObjectId('5dd4c534d395da2c08b7c9aa'), 'codigo': 'ID-202045', 'formação': 'curso em python', 'cursos': ['R', 'Python', 'C#'], 'data_curso': datetime.datetime(2019, 11, 20, 4, 46, 44, 69000)}\n",
      "{'_id': ObjectId('5dd4c537d395da2c08b7c9ab'), 'codigo': 'ID-8052021', 'formação': 'Cientista de dados', 'curso': ['Python', 'R', 'C#'], 'data_cadastro': datetime.datetime(2019, 11, 20, 4, 46, 46, 13000)}\n",
      "{'_id': ObjectId('5dd4c55cd395da2c08b7c9ac'), 'codigo': 'ID-8975462', 'formação': 'Cientista de dados', 'curso': ['Python', 'R', 'C#'], 'data_cadastro': datetime.datetime(2019, 11, 20, 4, 47, 20, 429000)}\n",
      "{'_id': ObjectId('5dd4c56bd395da2c08b7c9ae'), 'codigo': 'ID-202045', 'formação': 'curso em python', 'cursos': ['R', 'Python', 'C#'], 'data_curso': datetime.datetime(2019, 11, 20, 4, 47, 39, 29000)}\n",
      "{'_id': ObjectId('5dd4c56cd395da2c08b7c9af'), 'codigo': 'ID-8975462', 'formação': 'Cientista de dados', 'curso': ['Python', 'R', 'C#'], 'data_cadastro': datetime.datetime(2019, 11, 20, 4, 47, 39, 949000)}\n",
      "{'_id': ObjectId('5dd4c624d395da0424756fcb'), 'codigo': 'ID-202045', 'formação': 'curso em python', 'cursos': ['R', 'Python', 'C#'], 'data_curso': datetime.datetime(2019, 11, 20, 4, 50, 43, 621000)}\n",
      "{'_id': ObjectId('5dd4c627d395da0424756fcc'), 'codigo': 'ID-8975462', 'formação': 'Cientista de dados', 'curso': ['Python', 'R', 'C#'], 'data_cadastro': datetime.datetime(2019, 11, 20, 4, 50, 46, 741000)}\n",
      "{'_id': ObjectId('5dd4c8cfd395da2150d4a2a5'), 'codigo': 'ID-202045', 'formação': 'curso em python', 'cursos': ['R', 'Python', 'C#'], 'data_curso': datetime.datetime(2019, 11, 20, 5, 2, 6, 565000)}\n",
      "{'_id': ObjectId('5dd4c8d1d395da2150d4a2a6'), 'codigo': 'ID-8975462', 'formação': 'Cientista de dados', 'curso': ['Python', 'R', 'C#'], 'data_cadastro': datetime.datetime(2019, 11, 20, 5, 2, 8, 693000)}\n"
     ]
    }
   ],
   "source": [
    "for post in collection.find():\n",
    "    print(post)"
   ]
  },
  {
   "cell_type": "code",
   "execution_count": 17,
   "metadata": {},
   "outputs": [
    {
     "data": {
      "text/plain": [
       "'cadastrodb'"
      ]
     },
     "execution_count": 17,
     "metadata": {},
     "output_type": "execute_result"
    }
   ],
   "source": [
    "db.name"
   ]
  },
  {
   "cell_type": "code",
   "execution_count": 18,
   "metadata": {},
   "outputs": [
    {
     "data": {
      "text/plain": [
       "['mycollection', 'posts']"
      ]
     },
     "execution_count": 18,
     "metadata": {},
     "output_type": "execute_result"
    }
   ],
   "source": [
    "db.collection_names()"
   ]
  },
  {
   "cell_type": "code",
   "execution_count": null,
   "metadata": {},
   "outputs": [],
   "source": []
  }
 ],
 "metadata": {
  "kernelspec": {
   "display_name": "Python 3",
   "language": "python",
   "name": "python3"
  },
  "language_info": {
   "codemirror_mode": {
    "name": "ipython",
    "version": 3
   },
   "file_extension": ".py",
   "mimetype": "text/x-python",
   "name": "python",
   "nbconvert_exporter": "python",
   "pygments_lexer": "ipython3",
   "version": "3.7.3"
  }
 },
 "nbformat": 4,
 "nbformat_minor": 2
}
