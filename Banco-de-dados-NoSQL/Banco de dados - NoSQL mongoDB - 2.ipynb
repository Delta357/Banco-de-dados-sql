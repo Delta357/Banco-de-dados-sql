{
 "cells": [
  {
   "cell_type": "markdown",
   "metadata": {},
   "source": [
    "# Banco de dados MongoDB\n",
    "## NoSQL"
   ]
  },
  {
   "cell_type": "markdown",
   "metadata": {},
   "source": [
    "Chamar o banco de dados no cmd\n",
    "mongod"
   ]
  },
  {
   "cell_type": "code",
   "execution_count": 1,
   "metadata": {},
   "outputs": [],
   "source": [
    "import pymongo"
   ]
  },
  {
   "cell_type": "code",
   "execution_count": 2,
   "metadata": {},
   "outputs": [],
   "source": [
    "client_con = pymongo.MongoClient()"
   ]
  },
  {
   "cell_type": "code",
   "execution_count": 3,
   "metadata": {},
   "outputs": [
    {
     "data": {
      "text/plain": [
       "['admin', 'cadastrodb', 'config', 'local']"
      ]
     },
     "execution_count": 3,
     "metadata": {},
     "output_type": "execute_result"
    }
   ],
   "source": [
    "client_con.database_names()"
   ]
  },
  {
   "cell_type": "code",
   "execution_count": 4,
   "metadata": {},
   "outputs": [],
   "source": [
    "db = client_con.cadastrodb"
   ]
  },
  {
   "cell_type": "code",
   "execution_count": 5,
   "metadata": {},
   "outputs": [
    {
     "data": {
      "text/plain": [
       "['mycollection', 'posts']"
      ]
     },
     "execution_count": 5,
     "metadata": {},
     "output_type": "execute_result"
    }
   ],
   "source": [
    "db.collection_names()"
   ]
  },
  {
   "cell_type": "code",
   "execution_count": 6,
   "metadata": {},
   "outputs": [
    {
     "data": {
      "text/plain": [
       "['mycollection', 'posts']"
      ]
     },
     "execution_count": 6,
     "metadata": {},
     "output_type": "execute_result"
    }
   ],
   "source": [
    "db.collection_names()"
   ]
  },
  {
   "cell_type": "code",
   "execution_count": 7,
   "metadata": {},
   "outputs": [
    {
     "data": {
      "text/plain": [
       "<pymongo.results.InsertOneResult at 0x21fd4535d38>"
      ]
     },
     "execution_count": 7,
     "metadata": {},
     "output_type": "execute_result"
    }
   ],
   "source": [
    "db.mycollection.insert_one({\n",
    "   'titulo': 'MongoDB', \n",
    "   'descricao': 'NoSQL',\n",
    "   'by': 'GHR-System',\n",
    "   'url': 'http://www.ghrsystem.com.br',\n",
    "   'tags': ['mongodb', 'database', 'NoSQL'],\n",
    "   'likes': 100\n",
    "})"
   ]
  },
  {
   "cell_type": "code",
   "execution_count": 8,
   "metadata": {},
   "outputs": [
    {
     "data": {
      "text/plain": [
       "{'_id': ObjectId('5dd4bce6d395da0eac2cdb3f'),\n",
       " 'titulo': 'MongoDB com Python',\n",
       " 'descricao': 'MongoDB é um Banco de Dados NoSQL',\n",
       " 'by': 'Data Science Academy',\n",
       " 'url': 'http://www.datascienceacademy.com.br',\n",
       " 'tags': ['mongodb', 'database', 'NoSQL'],\n",
       " 'likes': 100}"
      ]
     },
     "execution_count": 8,
     "metadata": {},
     "output_type": "execute_result"
    }
   ],
   "source": [
    "db.mycollection.find_one()"
   ]
  },
  {
   "cell_type": "code",
   "execution_count": 9,
   "metadata": {},
   "outputs": [],
   "source": [
    "doc1 = {\"Nome\":\"ghrsystem\",\"twitter\":\"@ghrsystem\"}"
   ]
  },
  {
   "cell_type": "code",
   "execution_count": 10,
   "metadata": {},
   "outputs": [
    {
     "data": {
      "text/plain": [
       "<pymongo.results.InsertOneResult at 0x21fd453f168>"
      ]
     },
     "execution_count": 10,
     "metadata": {},
     "output_type": "execute_result"
    }
   ],
   "source": [
    "db.mycollection.insert_one(doc1)"
   ]
  },
  {
   "cell_type": "code",
   "execution_count": 11,
   "metadata": {},
   "outputs": [],
   "source": [
    "doc2 = {\"Site\":\"http://www.ghrsystem.com.br\",\n",
    "        \"facebook\":\"facebook.com/ghrsystem\"}"
   ]
  },
  {
   "cell_type": "code",
   "execution_count": 12,
   "metadata": {},
   "outputs": [
    {
     "data": {
      "text/plain": [
       "<pymongo.results.InsertOneResult at 0x21fd4535ca8>"
      ]
     },
     "execution_count": 12,
     "metadata": {},
     "output_type": "execute_result"
    }
   ],
   "source": [
    "db.mycollection.insert_one(doc2)"
   ]
  },
  {
   "cell_type": "code",
   "execution_count": 13,
   "metadata": {},
   "outputs": [
    {
     "name": "stdout",
     "output_type": "stream",
     "text": [
      "{'_id': ObjectId('5dd4bce6d395da0eac2cdb3f'), 'titulo': 'MongoDB com Python', 'descricao': 'MongoDB é um Banco de Dados NoSQL', 'by': 'Data Science Academy', 'url': 'http://www.datascienceacademy.com.br', 'tags': ['mongodb', 'database', 'NoSQL'], 'likes': 100}\n",
      "{'_id': ObjectId('5dd4bd0dd395da0eac2cdb40'), 'titulo': 'MongoDB com Python', 'descricao': 'MongoDB é um Banco de Dados NoSQL', 'by': 'Data Science Academy', 'url': 'http://www.datascienceacademy.com.br', 'tags': ['mongodb', 'database', 'NoSQL'], 'likes': 100}\n",
      "{'_id': ObjectId('5dd4bd3fd395da0eac2cdb41'), 'titulo': 'MongoDB com Python', 'descricao': 'MongoDB é um Banco de Dados NoSQL', 'by': 'GHR-System', 'url': 'http://www.ghrsystem.com.br', 'tags': ['mongodb', 'database', 'NoSQL'], 'likes': 100}\n",
      "{'_id': ObjectId('5dd4bdacd395da0eac2cdb43'), 'Site': 'http://www.http://www.ghrsystem.com.br', 'facebook': 'facebook.com/ghrsystem'}\n",
      "{'_id': ObjectId('5dd4be05d395da0eac2cdb45'), 'titulo': 'MongoDB com Python', 'descricao': 'MongoDB é um Banco de Dados NoSQL', 'by': 'GHR-System', 'url': 'http://www.ghrsystem.com.br', 'tags': ['mongodb', 'database', 'NoSQL'], 'likes': 100}\n",
      "{'_id': ObjectId('5dd4be08d395da0eac2cdb46'), 'Nome': 'Donald', 'sobrenome': 'Trump', 'twitter': '@POTUS'}\n",
      "{'_id': ObjectId('5dd4be0ad395da0eac2cdb47'), 'Site': 'http://www.http://www.ghrsystem.com.br', 'facebook': 'facebook.com/ghrsystem'}\n",
      "{'_id': ObjectId('5dd4be1bd395da0eac2cdb48'), 'titulo': 'MongoDB com Python', 'descricao': 'MongoDB é um Banco de Dados NoSQL', 'by': 'GHR-System', 'url': 'http://www.ghrsystem.com.br', 'tags': ['mongodb', 'database', 'NoSQL'], 'likes': 100}\n",
      "{'_id': ObjectId('5dd4be31d395da38d0b2c64f'), 'titulo': 'MongoDB com Python', 'descricao': 'MongoDB é um Banco de Dados NoSQL', 'by': 'GHR-System', 'url': 'http://www.ghrsystem.com.br', 'tags': ['mongodb', 'database', 'NoSQL'], 'likes': 100}\n",
      "{'_id': ObjectId('5dd4be39d395da38d0b2c651'), 'Site': 'http://www.http://www.ghrsystem.com.br', 'facebook': 'facebook.com/ghrsystem'}\n",
      "{'_id': ObjectId('5dd4be74d395da15c850282d'), 'titulo': 'MongoDB com Python', 'descricao': 'MongoDB é um Banco de Dados NoSQL', 'by': 'Data Science Academy', 'url': 'http://www.datascienceacademy.com.br', 'tags': ['mongodb', 'database', 'NoSQL'], 'likes': 100}\n",
      "{'_id': ObjectId('5dd4be74d395da15c850282e'), 'Nome': 'Donald', 'sobrenome': 'Trump', 'twitter': '@POTUS'}\n",
      "{'_id': ObjectId('5dd4be75d395da15c850282f'), 'Site': 'http://www.datascienceacademy.com.br', 'facebook': 'facebook.com/dsacademybr'}\n",
      "{'_id': ObjectId('5dd4bebdd395da38d0b2c652'), 'titulo': 'MongoDB com Python', 'descricao': 'MongoDB é um Banco de Dados NoSQL', 'by': 'GHR-System', 'url': '', 'tags': ['mongodb', 'database', 'NoSQL'], 'likes': 100}\n",
      "{'_id': ObjectId('5dd4becfd395da32b849c0c7'), 'titulo': 'MongoDB com Python', 'descricao': 'MongoDB é um Banco de Dados NoSQL', 'by': 'GHR-System', 'url': '', 'tags': ['mongodb', 'database', 'NoSQL'], 'likes': 100}\n",
      "{'_id': ObjectId('5dd4bee6d395da2c8c917c36'), 'titulo': 'MongoDB com Python', 'descricao': 'MongoDB é um Banco de Dados NoSQL', 'by': 'GHR-System', 'url': '', 'tags': ['mongodb', 'database', 'NoSQL'], 'likes': 100}\n",
      "{'_id': ObjectId('5dd4bee8d395da2c8c917c37'), 'Nome': 'Donald', 'sobrenome': 'Trump', 'twitter': '@POTUS'}\n",
      "{'_id': ObjectId('5dd4bee8d395da2c8c917c38'), 'Site': 'http://www.http://www.ghrsystem.com.br', 'facebook': 'facebook.com/ghrsystem'}\n",
      "{'_id': ObjectId('5dd4bf18d395da2c8c917c39'), 'Nome': 'NASA', 'sobrenome': 'Trump', 'twitter': '@NASA'}\n",
      "{'_id': ObjectId('5dd4bf1cd395da2c8c917c3a'), 'Site': 'http://www.http://www.ghrsystem.com.br', 'facebook': 'facebook.com/ghrsystem'}\n",
      "{'_id': ObjectId('5dd4bf4ad395da3ca815cff7'), 'titulo': 'MongoDB com Python', 'descricao': 'MongoDB é um Banco de Dados NoSQL', 'by': 'GHR-System', 'url': 'http://www.ghrsystem.com.br', 'tags': ['mongodb', 'database', 'NoSQL'], 'likes': 100}\n",
      "{'_id': ObjectId('5dd4bf4fd395da3ca815cff8'), 'Nome': 'NASA', 'sobrenome': 'Trump', 'twitter': '@NASA'}\n",
      "{'_id': ObjectId('5dd4bf50d395da3ca815cff9'), 'Site': 'http://www.ghrsystem.com.br', 'facebook': 'facebook.com/ghrsystem'}\n",
      "{'_id': ObjectId('5dd4bf74d395da3ca815cffa'), 'titulo': 'MongoDB', 'descricao': 'NoSQL', 'by': 'GHR-System', 'url': 'http://www.ghrsystem.com.br', 'tags': ['mongodb', 'database', 'NoSQL'], 'likes': 100}\n",
      "{'_id': ObjectId('5dd4bf78d395da3ca815cffb'), 'Nome': 'NASA', 'twitter': '@NASA'}\n",
      "{'_id': ObjectId('5dd4bf78d395da3ca815cffc'), 'Site': 'http://www.ghrsystem.com.br', 'facebook': 'facebook.com/ghrsystem'}\n",
      "{'_id': ObjectId('5dd4bf84d395da266c25efe8'), 'titulo': 'MongoDB', 'descricao': 'NoSQL', 'by': 'GHR-System', 'url': 'http://www.ghrsystem.com.br', 'tags': ['mongodb', 'database', 'NoSQL'], 'likes': 100}\n",
      "{'_id': ObjectId('5dd4bfbed395da3300c338e3'), 'titulo': 'MongoDB', 'descricao': 'NoSQL', 'by': 'GHR-System', 'url': 'http://www.ghrsystem.com.br', 'tags': ['mongodb', 'database', 'NoSQL'], 'likes': 200}\n",
      "{'_id': ObjectId('5dd4bfddd395da3300c338e4'), 'titulo': 'MongoDB', 'descricao': 'NoSQL', 'by': 'GHR-System', 'url': 'http:/https://www.nasa.gov', 'tags': ['mongodb', 'database', 'NoSQL'], 'likes': 200}\n",
      "{'_id': ObjectId('5dd4bfe5d395da3300c338e5'), 'titulo': 'MongoDB', 'descricao': 'NoSQL', 'by': 'GHR-System', 'url': 'https://www.nasa.gov', 'tags': ['mongodb', 'database', 'NoSQL'], 'likes': 200}\n",
      "{'_id': ObjectId('5dd4bffbd395da3300c338e6'), 'titulo': 'MongoDB', 'descricao': 'NoSQL', 'by': 'GHR-System', 'url': 'http://www.ghrsystem.com.br', 'tags': ['mongodb', 'database', 'NoSQL'], 'likes': 200}\n",
      "{'_id': ObjectId('5dd4c00cd395da266c25efe9'), 'Nome': 'NASA', 'twitter': '@NASA'}\n",
      "{'_id': ObjectId('5dd4c00dd395da266c25efea'), 'Site': 'http://www.ghrsystem.com.br', 'facebook': 'facebook.com/ghrsystem'}\n",
      "{'_id': ObjectId('5dd4c246d395da266c25efec'), 'titulo': 'MongoDB', 'descricao': 'NoSQL', 'by': 'GHR-System', 'url': 'http://www.ghrsystem.com.br', 'tags': ['mongodb', 'database', 'NoSQL'], 'likes': 100}\n",
      "{'_id': ObjectId('5dd4c247d395da266c25efed'), 'Nome': 'NASA', 'twitter': '@NASA'}\n",
      "{'_id': ObjectId('5dd4c248d395da266c25efee'), 'Site': 'http://www.ghrsystem.com.br', 'facebook': 'facebook.com/ghrsystem'}\n",
      "{'_id': ObjectId('5dd4c584d395da266c25eff0'), 'titulo': 'MongoDB', 'descricao': 'NoSQL', 'by': 'GHR-System', 'url': 'http://www.ghrsystem.com.br', 'tags': ['mongodb', 'database', 'NoSQL'], 'likes': 100}\n",
      "{'_id': ObjectId('5dd4c585d395da266c25eff1'), 'Nome': 'NASA', 'twitter': '@NASA'}\n",
      "{'_id': ObjectId('5dd4c585d395da266c25eff2'), 'Site': 'http://www.ghrsystem.com.br', 'facebook': 'facebook.com/ghrsystem'}\n",
      "{'_id': ObjectId('5dd4c596d395da06946025e7'), 'titulo': 'MongoDB', 'descricao': 'NoSQL', 'by': 'GHR-System', 'url': 'http://www.ghrsystem.com.br', 'tags': ['mongodb', 'database', 'NoSQL'], 'likes': 100}\n",
      "{'_id': ObjectId('5dd4c598d395da06946025e8'), 'Nome': 'NASA', 'twitter': '@NASA'}\n",
      "{'_id': ObjectId('5dd4c59ad395da06946025e9'), 'Site': 'http://www.ghrsystem.com.br', 'facebook': 'facebook.com/ghrsystem'}\n",
      "{'_id': ObjectId('5dd4c5bbd395da06946025ea'), 'titulo': 'MongoDB', 'descricao': 'NoSQL', 'by': 'GHR-System', 'url': 'http://www.ghrsystem.com.br', 'tags': ['mongodb', 'database', 'NoSQL'], 'likes': 100}\n",
      "{'_id': ObjectId('5dd4c5bbd395da06946025eb'), 'Nome': 'ghrsystem', 'twitter': '@ghrsystem'}\n",
      "{'_id': ObjectId('5dd4c5bcd395da06946025ec'), 'Site': 'http://www.ghrsystem.com.br', 'facebook': 'facebook.com/ghrsystem'}\n",
      "{'_id': ObjectId('5dd4c5f1d395da38e4828a94'), 'titulo': 'MongoDB', 'descricao': 'NoSQL', 'by': 'GHR-System', 'url': 'http://www.ghrsystem.com.br', 'tags': ['mongodb', 'database', 'NoSQL'], 'likes': 100}\n",
      "{'_id': ObjectId('5dd4c5f2d395da38e4828a95'), 'Nome': 'ghrsystem', 'twitter': '@ghrsystem'}\n",
      "{'_id': ObjectId('5dd4c5f3d395da38e4828a96'), 'Site': 'http://www.ghrsystem.com.br', 'facebook': 'facebook.com/ghrsystem'}\n",
      "{'_id': ObjectId('5dd4c8e3d395da22e085827f'), 'titulo': 'MongoDB', 'descricao': 'NoSQL', 'by': 'GHR-System', 'url': 'http://www.ghrsystem.com.br', 'tags': ['mongodb', 'database', 'NoSQL'], 'likes': 100}\n",
      "{'_id': ObjectId('5dd4c8e5d395da22e0858280'), 'Nome': 'ghrsystem', 'twitter': '@ghrsystem'}\n",
      "{'_id': ObjectId('5dd4c8e6d395da22e0858281'), 'Site': 'http://www.ghrsystem.com.br', 'facebook': 'facebook.com/ghrsystem'}\n",
      "{'_id': ObjectId('5dd52ef6d395da2c0c0f98ec'), 'titulo': 'MongoDB', 'descricao': 'NoSQL', 'by': 'GHR-System', 'url': 'http://www.ghrsystem.com.br', 'tags': ['mongodb', 'database', 'NoSQL'], 'likes': 100}\n",
      "{'_id': ObjectId('5dd52ef9d395da2c0c0f98ed'), 'Nome': 'ghrsystem', 'twitter': '@ghrsystem'}\n",
      "{'_id': ObjectId('5dd52ef9d395da2c0c0f98ee'), 'Site': 'http://www.ghrsystem.com.br', 'facebook': 'facebook.com/ghrsystem'}\n"
     ]
    }
   ],
   "source": [
    "for rec in db.mycollection.find():\n",
    "    print(rec)"
   ]
  },
  {
   "cell_type": "code",
   "execution_count": 14,
   "metadata": {},
   "outputs": [],
   "source": [
    "col = db['mycollection']"
   ]
  },
  {
   "cell_type": "code",
   "execution_count": 15,
   "metadata": {},
   "outputs": [
    {
     "data": {
      "text/plain": [
       "54"
      ]
     },
     "execution_count": 15,
     "metadata": {},
     "output_type": "execute_result"
    }
   ],
   "source": [
    "col.count()"
   ]
  },
  {
   "cell_type": "code",
   "execution_count": 16,
   "metadata": {},
   "outputs": [
    {
     "data": {
      "text/plain": [
       "{'_id': ObjectId('5dd4bce6d395da0eac2cdb3f'),\n",
       " 'titulo': 'MongoDB com Python',\n",
       " 'descricao': 'MongoDB é um Banco de Dados NoSQL',\n",
       " 'by': 'Data Science Academy',\n",
       " 'url': 'http://www.datascienceacademy.com.br',\n",
       " 'tags': ['mongodb', 'database', 'NoSQL'],\n",
       " 'likes': 100}"
      ]
     },
     "execution_count": 16,
     "metadata": {},
     "output_type": "execute_result"
    }
   ],
   "source": [
    "redoc = col.find_one()\n",
    "redoc"
   ]
  }
 ],
 "metadata": {
  "kernelspec": {
   "display_name": "Python 3",
   "language": "python",
   "name": "python3"
  },
  "language_info": {
   "codemirror_mode": {
    "name": "ipython",
    "version": 3
   },
   "file_extension": ".py",
   "mimetype": "text/x-python",
   "name": "python",
   "nbconvert_exporter": "python",
   "pygments_lexer": "ipython3",
   "version": "3.7.3"
  }
 },
 "nbformat": 4,
 "nbformat_minor": 2
}
