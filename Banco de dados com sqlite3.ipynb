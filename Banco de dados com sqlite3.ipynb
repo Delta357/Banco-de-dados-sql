{
 "cells": [
  {
   "cell_type": "code",
   "execution_count": 1,
   "metadata": {},
   "outputs": [],
   "source": [
    "import os\n",
    "import sqlite3\n",
    "os.remove(\"curso.db\") if os.path.exists(\"curso.db\") else None"
   ]
  },
  {
   "cell_type": "code",
   "execution_count": 2,
   "metadata": {},
   "outputs": [],
   "source": [
    "con = sqlite3.connect(\"curso.db\")"
   ]
  },
  {
   "cell_type": "code",
   "execution_count": 3,
   "metadata": {},
   "outputs": [
    {
     "data": {
      "text/plain": [
       "sqlite3.Connection"
      ]
     },
     "execution_count": 3,
     "metadata": {},
     "output_type": "execute_result"
    }
   ],
   "source": [
    "type(con)"
   ]
  },
  {
   "cell_type": "code",
   "execution_count": 4,
   "metadata": {},
   "outputs": [],
   "source": [
    "cur = con.cursor()"
   ]
  },
  {
   "cell_type": "code",
   "execution_count": 5,
   "metadata": {},
   "outputs": [],
   "source": [
    "sql_create = 'create table cursos '\\\n",
    "'(id integer primary key, '\\\n",
    "'titulo varchar(100), '\\\n",
    "'categoria varchar(140))'"
   ]
  },
  {
   "cell_type": "code",
   "execution_count": 6,
   "metadata": {},
   "outputs": [
    {
     "data": {
      "text/plain": [
       "<sqlite3.Cursor at 0x1cc08bd98f0>"
      ]
     },
     "execution_count": 6,
     "metadata": {},
     "output_type": "execute_result"
    }
   ],
   "source": [
    "cur.execute(sql_create)"
   ]
  },
  {
   "cell_type": "code",
   "execution_count": 7,
   "metadata": {},
   "outputs": [],
   "source": [
    "sql_insert = 'insert into cursos values (?, ?, ?)'"
   ]
  },
  {
   "cell_type": "code",
   "execution_count": 8,
   "metadata": {},
   "outputs": [],
   "source": [
    "recset = [(1000, 'Pythom 3', 'R'),\n",
    "          (1001, 'Big Data', 'A.i'),\n",
    "          (1002, '.NET', 'C#')]"
   ]
  },
  {
   "cell_type": "code",
   "execution_count": 9,
   "metadata": {},
   "outputs": [],
   "source": [
    "for rec in recset:\n",
    "    cur.execute(sql_insert, rec)"
   ]
  },
  {
   "cell_type": "code",
   "execution_count": 10,
   "metadata": {},
   "outputs": [],
   "source": [
    "con.commit()"
   ]
  },
  {
   "cell_type": "code",
   "execution_count": 11,
   "metadata": {},
   "outputs": [],
   "source": [
    "sql_select = 'select * from cursos'"
   ]
  },
  {
   "cell_type": "code",
   "execution_count": 12,
   "metadata": {},
   "outputs": [],
   "source": [
    "cur.execute(sql_select)\n",
    "curso= cur.fetchall()"
   ]
  },
  {
   "cell_type": "code",
   "execution_count": 13,
   "metadata": {},
   "outputs": [
    {
     "name": "stdout",
     "output_type": "stream",
     "text": [
      "Curso Id: 1000, Título: Pythom 3, Categoria: R \n",
      "\n",
      "Curso Id: 1001, Título: Big Data, Categoria: A.i \n",
      "\n",
      "Curso Id: 1002, Título: .NET, Categoria: C# \n",
      "\n"
     ]
    }
   ],
   "source": [
    "for linha in curso:\n",
    "    print ('Curso Id: %d, Título: %s, Categoria: %s \\n' % linha)"
   ]
  },
  {
   "cell_type": "code",
   "execution_count": 14,
   "metadata": {},
   "outputs": [],
   "source": [
    "recset = [(1003, 'MongoDB', 'BLACK-END'),\n",
    "          (1004, 'Bots', 'NoSQL')]"
   ]
  },
  {
   "cell_type": "code",
   "execution_count": 15,
   "metadata": {},
   "outputs": [],
   "source": [
    "for rec in recset:\n",
    "    cur.execute(sql_insert, rec)"
   ]
  },
  {
   "cell_type": "code",
   "execution_count": 16,
   "metadata": {},
   "outputs": [],
   "source": [
    "con.commit()"
   ]
  },
  {
   "cell_type": "code",
   "execution_count": 17,
   "metadata": {},
   "outputs": [],
   "source": [
    "cur.execute('select * from cursos')\n",
    "recset = cur.fetchall()"
   ]
  },
  {
   "cell_type": "code",
   "execution_count": 18,
   "metadata": {},
   "outputs": [
    {
     "name": "stdout",
     "output_type": "stream",
     "text": [
      "Curso Id: 1000, Título: Pythom 3, Categoria: R \n",
      "\n",
      "Curso Id: 1001, Título: Big Data, Categoria: A.i \n",
      "\n",
      "Curso Id: 1002, Título: .NET, Categoria: C# \n",
      "\n",
      "Curso Id: 1003, Título: MongoDB, Categoria: BLACK-END \n",
      "\n",
      "Curso Id: 1004, Título: Bots, Categoria: NoSQL \n",
      "\n"
     ]
    }
   ],
   "source": [
    "for rec in recset:\n",
    "    print ('Curso Id: %d, Título: %s, Categoria: %s \\n' % rec)"
   ]
  },
  {
   "cell_type": "code",
   "execution_count": 19,
   "metadata": {},
   "outputs": [
    {
     "name": "stdout",
     "output_type": "stream",
     "text": [
      "Nome: Silva\n",
      "Idade: 34\n",
      "CPF: 223345\n",
      "Email: silva@oul.com.br\n",
      "Fone: 22222\n",
      "Cidade: sp\n",
      "UF: sp\n",
      "Criado em (yyyy-mm-dd): 22-09-18\n",
      "Dados inseridos com sucesso.\n"
     ]
    }
   ],
   "source": [
    "conn = sqlite3.connect('curso.db')\n",
    "cursor = conn.cursor()\n",
    "\n",
    "p_nome = input('Nome: ')\n",
    "p_idade = input('Idade: ')\n",
    "p_cpf = input('CPF: ')\n",
    "p_email = input('Email: ')\n",
    "p_fone = input('Fone: ')\n",
    "p_cidade = input('Cidade: ')\n",
    "p_uf = input('UF: ')\n",
    "p_criado_em = input('Criado em (yyyy-mm-dd): ')\n",
    "\n",
    "print('Dados inseridos com sucesso.')\n",
    "\n",
    "conn.close()"
   ]
  },
  {
   "cell_type": "code",
   "execution_count": 20,
   "metadata": {},
   "outputs": [],
   "source": [
    "con.close()"
   ]
  },
  {
   "cell_type": "code",
   "execution_count": null,
   "metadata": {},
   "outputs": [],
   "source": []
  }
 ],
 "metadata": {
  "kernelspec": {
   "display_name": "Python 3",
   "language": "python",
   "name": "python3"
  },
  "language_info": {
   "codemirror_mode": {
    "name": "ipython",
    "version": 3
   },
   "file_extension": ".py",
   "mimetype": "text/x-python",
   "name": "python",
   "nbconvert_exporter": "python",
   "pygments_lexer": "ipython3",
   "version": "3.7.3"
  }
 },
 "nbformat": 4,
 "nbformat_minor": 2
}
